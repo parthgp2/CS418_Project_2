{
 "cells": [
  {
   "cell_type": "markdown",
   "metadata": {},
   "source": [
    "## Preliminaries "
   ]
  },
  {
   "cell_type": "code",
   "execution_count": 24,
   "metadata": {},
   "outputs": [],
   "source": [
    "# Load libraries\n",
    "import pandas as pd\n",
    "import matplotlib.pyplot as plt\n",
    "import seaborn as sns\n",
    "from sklearn.model_selection import train_test_split\n",
    "from sklearn.preprocessing import StandardScaler  \n",
    "from sklearn.tree import DecisionTreeClassifier\n",
    "from sklearn.neighbors import KNeighborsClassifier \n",
    "from sklearn.naive_bayes import GaussianNB\n",
    "from sklearn.svm import SVC\n",
    "from scipy.cluster.hierarchy import linkage, fcluster\n",
    "from sklearn.cluster import KMeans, DBSCAN\n",
    "from sklearn import metrics\n",
    "from sklearn.metrics import confusion_matrix\n",
    "from sklearn import linear_model"
   ]
  },
  {
   "cell_type": "code",
   "execution_count": 2,
   "metadata": {},
   "outputs": [
    {
     "data": {
      "text/html": [
       "<div>\n",
       "<style scoped>\n",
       "    .dataframe tbody tr th:only-of-type {\n",
       "        vertical-align: middle;\n",
       "    }\n",
       "\n",
       "    .dataframe tbody tr th {\n",
       "        vertical-align: top;\n",
       "    }\n",
       "\n",
       "    .dataframe thead th {\n",
       "        text-align: right;\n",
       "    }\n",
       "</style>\n",
       "<table border=\"1\" class=\"dataframe\">\n",
       "  <thead>\n",
       "    <tr style=\"text-align: right;\">\n",
       "      <th></th>\n",
       "      <th>State</th>\n",
       "      <th>County</th>\n",
       "      <th>FIPS</th>\n",
       "      <th>Total Population</th>\n",
       "      <th>Percent White, not Hispanic or Latino</th>\n",
       "      <th>Percent Black, not Hispanic or Latino</th>\n",
       "      <th>Percent Hispanic or Latino</th>\n",
       "      <th>Percent Foreign Born</th>\n",
       "      <th>Percent Female</th>\n",
       "      <th>Percent Age 29 and Under</th>\n",
       "      <th>Percent Age 65 and Older</th>\n",
       "      <th>Median Household Income</th>\n",
       "      <th>Percent Unemployed</th>\n",
       "      <th>Percent Less than High School Degree</th>\n",
       "      <th>Percent Less than Bachelor's Degree</th>\n",
       "      <th>Percent Rural</th>\n",
       "      <th>Democratic</th>\n",
       "      <th>Republican</th>\n",
       "      <th>Party</th>\n",
       "    </tr>\n",
       "  </thead>\n",
       "  <tbody>\n",
       "    <tr>\n",
       "      <th>0</th>\n",
       "      <td>AZ</td>\n",
       "      <td>apache</td>\n",
       "      <td>4001</td>\n",
       "      <td>72346</td>\n",
       "      <td>18.571863</td>\n",
       "      <td>0.486551</td>\n",
       "      <td>5.947806</td>\n",
       "      <td>1.719515</td>\n",
       "      <td>50.598513</td>\n",
       "      <td>45.854643</td>\n",
       "      <td>13.322091</td>\n",
       "      <td>32460</td>\n",
       "      <td>15.807433</td>\n",
       "      <td>21.758252</td>\n",
       "      <td>88.941063</td>\n",
       "      <td>74.061076</td>\n",
       "      <td>16298</td>\n",
       "      <td>7810</td>\n",
       "      <td>1</td>\n",
       "    </tr>\n",
       "    <tr>\n",
       "      <th>1</th>\n",
       "      <td>AZ</td>\n",
       "      <td>cochise</td>\n",
       "      <td>4003</td>\n",
       "      <td>128177</td>\n",
       "      <td>56.299492</td>\n",
       "      <td>3.714395</td>\n",
       "      <td>34.403208</td>\n",
       "      <td>11.458374</td>\n",
       "      <td>49.069646</td>\n",
       "      <td>37.902276</td>\n",
       "      <td>19.756275</td>\n",
       "      <td>45383</td>\n",
       "      <td>8.567108</td>\n",
       "      <td>13.409171</td>\n",
       "      <td>76.837055</td>\n",
       "      <td>36.301067</td>\n",
       "      <td>17383</td>\n",
       "      <td>26929</td>\n",
       "      <td>0</td>\n",
       "    </tr>\n",
       "    <tr>\n",
       "      <th>2</th>\n",
       "      <td>AZ</td>\n",
       "      <td>coconino</td>\n",
       "      <td>4005</td>\n",
       "      <td>138064</td>\n",
       "      <td>54.619597</td>\n",
       "      <td>1.342855</td>\n",
       "      <td>13.711033</td>\n",
       "      <td>4.825298</td>\n",
       "      <td>50.581614</td>\n",
       "      <td>48.946141</td>\n",
       "      <td>10.873943</td>\n",
       "      <td>51106</td>\n",
       "      <td>8.238305</td>\n",
       "      <td>11.085381</td>\n",
       "      <td>65.791439</td>\n",
       "      <td>31.466066</td>\n",
       "      <td>34240</td>\n",
       "      <td>19249</td>\n",
       "      <td>1</td>\n",
       "    </tr>\n",
       "    <tr>\n",
       "      <th>3</th>\n",
       "      <td>AZ</td>\n",
       "      <td>gila</td>\n",
       "      <td>4007</td>\n",
       "      <td>53179</td>\n",
       "      <td>63.222325</td>\n",
       "      <td>0.552850</td>\n",
       "      <td>18.548675</td>\n",
       "      <td>4.249798</td>\n",
       "      <td>50.296170</td>\n",
       "      <td>32.238290</td>\n",
       "      <td>26.397638</td>\n",
       "      <td>40593</td>\n",
       "      <td>12.129932</td>\n",
       "      <td>15.729958</td>\n",
       "      <td>82.262624</td>\n",
       "      <td>41.062000</td>\n",
       "      <td>7643</td>\n",
       "      <td>12180</td>\n",
       "      <td>0</td>\n",
       "    </tr>\n",
       "    <tr>\n",
       "      <th>4</th>\n",
       "      <td>AZ</td>\n",
       "      <td>graham</td>\n",
       "      <td>4009</td>\n",
       "      <td>37529</td>\n",
       "      <td>51.461536</td>\n",
       "      <td>1.811932</td>\n",
       "      <td>32.097844</td>\n",
       "      <td>4.385942</td>\n",
       "      <td>46.313518</td>\n",
       "      <td>46.393456</td>\n",
       "      <td>12.315809</td>\n",
       "      <td>47422</td>\n",
       "      <td>14.424104</td>\n",
       "      <td>14.580797</td>\n",
       "      <td>86.675944</td>\n",
       "      <td>46.437399</td>\n",
       "      <td>3368</td>\n",
       "      <td>6870</td>\n",
       "      <td>0</td>\n",
       "    </tr>\n",
       "  </tbody>\n",
       "</table>\n",
       "</div>"
      ],
      "text/plain": [
       "  State    County  FIPS  Total Population  \\\n",
       "0    AZ    apache  4001             72346   \n",
       "1    AZ   cochise  4003            128177   \n",
       "2    AZ  coconino  4005            138064   \n",
       "3    AZ      gila  4007             53179   \n",
       "4    AZ    graham  4009             37529   \n",
       "\n",
       "   Percent White, not Hispanic or Latino  \\\n",
       "0                              18.571863   \n",
       "1                              56.299492   \n",
       "2                              54.619597   \n",
       "3                              63.222325   \n",
       "4                              51.461536   \n",
       "\n",
       "   Percent Black, not Hispanic or Latino  Percent Hispanic or Latino  \\\n",
       "0                               0.486551                    5.947806   \n",
       "1                               3.714395                   34.403208   \n",
       "2                               1.342855                   13.711033   \n",
       "3                               0.552850                   18.548675   \n",
       "4                               1.811932                   32.097844   \n",
       "\n",
       "   Percent Foreign Born  Percent Female  Percent Age 29 and Under  \\\n",
       "0              1.719515       50.598513                 45.854643   \n",
       "1             11.458374       49.069646                 37.902276   \n",
       "2              4.825298       50.581614                 48.946141   \n",
       "3              4.249798       50.296170                 32.238290   \n",
       "4              4.385942       46.313518                 46.393456   \n",
       "\n",
       "   Percent Age 65 and Older  Median Household Income  Percent Unemployed  \\\n",
       "0                 13.322091                    32460           15.807433   \n",
       "1                 19.756275                    45383            8.567108   \n",
       "2                 10.873943                    51106            8.238305   \n",
       "3                 26.397638                    40593           12.129932   \n",
       "4                 12.315809                    47422           14.424104   \n",
       "\n",
       "   Percent Less than High School Degree  Percent Less than Bachelor's Degree  \\\n",
       "0                             21.758252                            88.941063   \n",
       "1                             13.409171                            76.837055   \n",
       "2                             11.085381                            65.791439   \n",
       "3                             15.729958                            82.262624   \n",
       "4                             14.580797                            86.675944   \n",
       "\n",
       "   Percent Rural  Democratic  Republican  Party  \n",
       "0      74.061076       16298        7810      1  \n",
       "1      36.301067       17383       26929      0  \n",
       "2      31.466066       34240       19249      1  \n",
       "3      41.062000        7643       12180      0  \n",
       "4      46.437399        3368        6870      0  "
      ]
     },
     "execution_count": 2,
     "metadata": {},
     "output_type": "execute_result"
    }
   ],
   "source": [
    "# Load dataset\n",
    "merged_data = pd.read_csv('merged_train.csv')\n",
    "merged_data.head()"
   ]
  },
  {
   "cell_type": "markdown",
   "metadata": {},
   "source": [
    "## Task 1"
   ]
  },
  {
   "cell_type": "code",
   "execution_count": 3,
   "metadata": {},
   "outputs": [],
   "source": [
    "#Task 1\n",
    "x_train, x_val, y_train, y_val = train_test_split(merged_data[[\n",
    "                                                                 'FIPS', \n",
    "                                                                 'Total Population', \n",
    "                                                                 'Percent White, not Hispanic or Latino', \n",
    "                                                                 'Percent Black, not Hispanic or Latino', \n",
    "                                                                 'Percent Hispanic or Latino', \n",
    "                                                                 'Percent Foreign Born', \n",
    "                                                                 'Percent Female', \n",
    "                                                                 'Percent Age 29 and Under', \n",
    "                                                                 'Percent Age 65 and Older', \n",
    "                                                                 'Median Household Income', \n",
    "                                                                 'Percent Unemployed', \n",
    "                                                                 'Percent Less than High School Degree',\n",
    "                                                                 \"Percent Less than Bachelor's Degree\",\n",
    "                                                                 'Percent Rural']], \n",
    "                                                                  merged_data[['Democratic', 'Republican', 'Party']],\n",
    "                                                                  train_size = .75, \n",
    "                                                                  test_size = .25, \n",
    "                                                                  random_state = 0)"
   ]
  },
  {
   "cell_type": "markdown",
   "metadata": {},
   "source": [
    "## Task 2"
   ]
  },
  {
   "cell_type": "code",
   "execution_count": 4,
   "metadata": {},
   "outputs": [],
   "source": [
    "#Task 2\n",
    "scaler = StandardScaler()\n",
    "scaler.fit(x_train)\n",
    "x_train_scaled_array = scaler.transform(x_train)\n",
    "x_val_scaled_array = scaler.transform(x_val)\n",
    "\n",
    "# convert arrays returned from scaler.transform() into DataFrames for easier column access later\n",
    "x_train_scaled = pd.DataFrame(data=x_train_scaled_array, columns=['FIPS', \n",
    "                                                                 'Total Population', \n",
    "                                                                 'Percent White, not Hispanic or Latino', \n",
    "                                                                 'Percent Black, not Hispanic or Latino', \n",
    "                                                                 'Percent Hispanic or Latino', \n",
    "                                                                 'Percent Foreign Born', \n",
    "                                                                 'Percent Female', \n",
    "                                                                 'Percent Age 29 and Under', \n",
    "                                                                 'Percent Age 65 and Older', \n",
    "                                                                 'Median Household Income', \n",
    "                                                                 'Percent Unemployed', \n",
    "                                                                 'Percent Less than High School Degree',\n",
    "                                                                 \"Percent Less than Bachelor's Degree\",\n",
    "                                                                 'Percent Rural'])\n",
    "x_val_scaled = pd.DataFrame(data=x_val_scaled_array, columns=['FIPS', \n",
    "                                                                 'Total Population', \n",
    "                                                                 'Percent White, not Hispanic or Latino', \n",
    "                                                                 'Percent Black, not Hispanic or Latino', \n",
    "                                                                 'Percent Hispanic or Latino', \n",
    "                                                                 'Percent Foreign Born', \n",
    "                                                                 'Percent Female', \n",
    "                                                                 'Percent Age 29 and Under', \n",
    "                                                                 'Percent Age 65 and Older', \n",
    "                                                                 'Median Household Income', \n",
    "                                                                 'Percent Unemployed', \n",
    "                                                                 'Percent Less than High School Degree',\n",
    "                                                                 \"Percent Less than Bachelor's Degree\",\n",
    "                                                                 'Percent Rural'])"
   ]
  },
  {
   "cell_type": "markdown",
   "metadata": {},
   "source": [
    "## Task 3"
   ]
  },
  {
   "cell_type": "code",
   "execution_count": 5,
   "metadata": {},
   "outputs": [
    {
     "name": "stdout",
     "output_type": "stream",
     "text": [
      "[13108.01480235]\n",
      "27569.37388392861\n"
     ]
    },
    {
     "data": {
      "text/plain": [
       "-0.04396389216761376"
      ]
     },
     "execution_count": 5,
     "metadata": {},
     "output_type": "execute_result"
    }
   ],
   "source": [
    "#Task 3 \n",
    "# Build model with one predictor for Democratic party\n",
    "model = linear_model.LinearRegression()\n",
    "predicted = model.fit(X = x_train_scaled['Percent Female'].values.reshape(-1, 1), y = y_train['Democratic'])\n",
    "print(predicted.coef_)\n",
    "print(predicted.intercept_)\n",
    "model.score(X = x_val_scaled['Percent Female'].values.reshape(-1, 1), y = y_val['Democratic']) # print R squared"
   ]
  },
  {
   "cell_type": "code",
   "execution_count": 6,
   "metadata": {},
   "outputs": [
    {
     "name": "stdout",
     "output_type": "stream",
     "text": [
      "[12363.7551377  11720.33971981]\n",
      "27569.373883928616\n"
     ]
    },
    {
     "data": {
      "text/plain": [
       "0.006932787618006642"
      ]
     },
     "execution_count": 6,
     "metadata": {},
     "output_type": "execute_result"
    }
   ],
   "source": [
    "# Build model with two predictors for Democratic party\n",
    "model = linear_model.LinearRegression()\n",
    "predicted = model.fit(X = x_train_scaled[['Percent Female', 'Percent Age 29 and Under']], y = y_train['Democratic'])\n",
    "print(predicted.coef_)\n",
    "print(predicted.intercept_)\n",
    "model.score(X = x_val_scaled[['Percent Female', 'Percent Age 29 and Under']], y = y_val['Democratic']) # print R squared"
   ]
  },
  {
   "cell_type": "code",
   "execution_count": 7,
   "metadata": {},
   "outputs": [
    {
     "name": "stdout",
     "output_type": "stream",
     "text": [
      "[-1.29973961e+03  6.91023743e+04 -3.07966185e+03 -8.46872049e+02\n",
      " -6.60392331e+03  3.65218018e+03  3.42493472e+02 -5.43113267e+03\n",
      " -2.14109622e+03  1.49170954e+03  1.29818765e+03  4.50072694e+03\n",
      " -1.08157528e+04 -7.09235223e+00]\n",
      "27569.37388392856\n"
     ]
    },
    {
     "data": {
      "text/plain": [
       "0.8683081252520788"
      ]
     },
     "execution_count": 7,
     "metadata": {},
     "output_type": "execute_result"
    }
   ],
   "source": [
    "# Build model with all predictors (using sklearn) for Democratic party\n",
    "model = linear_model.LinearRegression()\n",
    "predicted = model.fit(X = x_train_scaled, y = y_train['Democratic'])\n",
    "print(predicted.coef_)\n",
    "print(predicted.intercept_)\n",
    "model.score(X = x_val_scaled, y = y_val['Democratic']) # print R squared"
   ]
  },
  {
   "cell_type": "code",
   "execution_count": 8,
   "metadata": {},
   "outputs": [
    {
     "name": "stdout",
     "output_type": "stream",
     "text": [
      "[8124.30444751]\n",
      "21546.910714285736\n"
     ]
    },
    {
     "data": {
      "text/plain": [
       "0.005573819984737272"
      ]
     },
     "execution_count": 8,
     "metadata": {},
     "output_type": "execute_result"
    }
   ],
   "source": [
    "# Build model with one predictor for Republican party\n",
    "model = linear_model.LinearRegression()\n",
    "predicted = model.fit(X = x_train_scaled['Percent Female'].values.reshape(-1, 1), y = y_train['Republican'])\n",
    "print(predicted.coef_)\n",
    "print(predicted.intercept_)\n",
    "model.score(X = x_val_scaled['Percent Female'].values.reshape(-1, 1), y = y_val['Republican']) # print R squared"
   ]
  },
  {
   "cell_type": "code",
   "execution_count": 9,
   "metadata": {},
   "outputs": [
    {
     "name": "stdout",
     "output_type": "stream",
     "text": [
      "[7684.47359548 6926.3017328 ]\n",
      "21546.91071428574\n"
     ]
    },
    {
     "data": {
      "text/plain": [
       "0.0516243715609247"
      ]
     },
     "execution_count": 9,
     "metadata": {},
     "output_type": "execute_result"
    }
   ],
   "source": [
    "# Build model with two predictors for Republican party\n",
    "model = linear_model.LinearRegression()\n",
    "predicted = model.fit(X = x_train_scaled[['Percent Female', 'Percent Age 29 and Under']], y = y_train['Republican'])\n",
    "print(predicted.coef_)\n",
    "print(predicted.intercept_)\n",
    "model.score(X = x_val_scaled[['Percent Female', 'Percent Age 29 and Under']], y = y_val['Republican']) # print R squared"
   ]
  },
  {
   "cell_type": "code",
   "execution_count": 10,
   "metadata": {},
   "outputs": [
    {
     "name": "stdout",
     "output_type": "stream",
     "text": [
      "[-1841.71481358 45294.6191397   1953.44637842 -2891.51669931\n",
      "  1630.84523366 -6919.31365181  -911.59096508 -1142.09609098\n",
      "  2172.82809419  5939.95183865  1797.87047734  4186.42433113\n",
      " -3576.57045413 -5778.03329044]\n",
      "21546.910714285706\n"
     ]
    },
    {
     "data": {
      "text/plain": [
       "0.7084055060846924"
      ]
     },
     "execution_count": 10,
     "metadata": {},
     "output_type": "execute_result"
    }
   ],
   "source": [
    "# Build model with all predictors (using sklearn) for Republican party\n",
    "model = linear_model.LinearRegression()\n",
    "predicted = model.fit(X = x_train_scaled, y = y_train['Republican'])\n",
    "print(predicted.coef_)\n",
    "print(predicted.intercept_)\n",
    "model.score(X = x_val_scaled, y = y_val['Republican']) # print R squared"
   ]
  },
  {
   "cell_type": "markdown",
   "metadata": {},
   "source": [
    "# Task 4"
   ]
  },
  {
   "cell_type": "code",
   "execution_count": 11,
   "metadata": {},
   "outputs": [
    {
     "name": "stdout",
     "output_type": "stream",
     "text": [
      "[(  1,  92, 12, -8.03700201e-02, 0.85103407, 896, 896.)\n",
      " (  2,   7, 13, -1.57463121e+00, 0.99675236, 328, 328.)\n",
      " (  3,   4,  2,  1.39889557e-01, 0.28290479,  61,  61.)\n",
      " ( -1,  -1, -2, -2.00000000e+00, 0.        ,  57,  57.)\n",
      " (  5,   6,  9,  1.58288693e+00, 0.81127812,   4,   4.)\n",
      " ( -1,  -1, -2, -2.00000000e+00, 0.        ,   3,   3.)\n",
      " ( -1,  -1, -2, -2.00000000e+00, 0.        ,   1,   1.)\n",
      " (  8,  15,  1, -3.45154375e-01, 0.98895258, 267, 267.)\n",
      " (  9,  10, 12, -1.85585611e-01, 0.30337484,  37,  37.)\n",
      " ( -1,  -1, -2, -2.00000000e+00, 0.        ,  29,  29.)\n",
      " ( 11,  12,  0,  7.09241838e-04, 0.81127812,   8,   8.)\n",
      " ( -1,  -1, -2, -2.00000000e+00, 0.        ,   5,   5.)\n",
      " ( 13,  14,  8,  2.36446482e+00, 0.91829583,   3,   3.)\n",
      " ( -1,  -1, -2, -2.00000000e+00, 0.        ,   2,   2.)\n",
      " ( -1,  -1, -2, -2.00000000e+00, 0.        ,   1,   1.)\n",
      " ( 16,  17,  2, -1.39712286e+00, 1.        , 230, 230.)\n",
      " ( -1,  -1, -2, -2.00000000e+00, 0.        ,  10,  10.)\n",
      " ( 18,  91, 11,  7.73416497e-02, 0.9985091 , 220, 220.)\n",
      " ( 19,  42,  5, -3.79134670e-01, 0.99998349, 209, 209.)\n",
      " ( 20,  25,  9, -1.45334750e-01, 0.8890349 ,  62,  62.)\n",
      " ( 21,  22,  1, -3.29191983e-01, 0.86312057,  14,  14.)\n",
      " ( -1,  -1, -2, -2.00000000e+00, 0.        ,   2,   2.)\n",
      " ( 23,  24,  3,  1.87718753e-01, 0.65002242,  12,  12.)\n",
      " ( -1,  -1, -2, -2.00000000e+00, 0.        ,  10,  10.)\n",
      " ( -1,  -1, -2, -2.00000000e+00, 0.        ,   2,   2.)\n",
      " ( 26,  27,  2,  6.22673541e-01, 0.69621226,  48,  48.)\n",
      " ( -1,  -1, -2, -2.00000000e+00, 0.        ,  16,  16.)\n",
      " ( 28,  41, 12, -1.68238305e-01, 0.85714844,  32,  32.)\n",
      " ( 29,  40,  7,  6.79398850e-01, 0.73550858,  29,  29.)\n",
      " ( 30,  39,  9,  5.12083828e-01, 0.60518658,  27,  27.)\n",
      " ( 31,  34,  5, -4.93951052e-01, 0.83664074,  15,  15.)\n",
      " ( 32,  33, 12, -2.70436972e-01, 0.46899559,  10,  10.)\n",
      " ( -1,  -1, -2, -2.00000000e+00, 0.        ,   9,   9.)\n",
      " ( -1,  -1, -2, -2.00000000e+00, 0.        ,   1,   1.)\n",
      " ( 35,  36,  1, -2.48574868e-01, 0.97095059,   5,   5.)\n",
      " ( -1,  -1, -2, -2.00000000e+00, 0.        ,   2,   2.)\n",
      " ( 37,  38,  4, -5.31766191e-01, 0.91829583,   3,   3.)\n",
      " ( -1,  -1, -2, -2.00000000e+00, 0.        ,   1,   1.)\n",
      " ( -1,  -1, -2, -2.00000000e+00, 0.        ,   2,   2.)\n",
      " ( -1,  -1, -2, -2.00000000e+00, 0.        ,  12,  12.)\n",
      " ( -1,  -1, -2, -2.00000000e+00, 0.        ,   2,   2.)\n",
      " ( -1,  -1, -2, -2.00000000e+00, 0.        ,   3,   3.)\n",
      " ( 43,  84,  4,  5.90342786e-02, 0.97903461, 147, 147.)\n",
      " ( 44,  77,  9,  2.13687468e+00, 0.93925472, 118, 118.)\n",
      " ( 45,  50,  0, -1.53476042e+00, 0.88247445, 103, 103.)\n",
      " ( 46,  47,  9, -1.35681782e-01, 0.81127812,  12,  12.)\n",
      " ( -1,  -1, -2, -2.00000000e+00, 0.        ,   2,   2.)\n",
      " ( 48,  49, 13, -2.23415203e-01, 0.46899559,  10,  10.)\n",
      " ( -1,  -1, -2, -2.00000000e+00, 0.        ,   9,   9.)\n",
      " ( -1,  -1, -2, -2.00000000e+00, 0.        ,   1,   1.)\n",
      " ( 51,  52, 11, -1.00300831e+00, 0.79795197,  91,  91.)\n",
      " ( -1,  -1, -2, -2.00000000e+00, 0.        ,  26,  26.)\n",
      " ( 53,  72,  5,  3.28725457e-01, 0.92333889,  65,  65.)\n",
      " ( 54,  71, 13, -1.47851240e-02, 0.98522814,  49,  49.)\n",
      " ( 55,  66,  0,  5.72465107e-01, 0.99819588,  40,  40.)\n",
      " ( 56,  61, 12, -7.96859324e-01, 0.90239328,  22,  22.)\n",
      " ( 57,  60,  7, -5.15097212e-02, 0.954434  ,   8,   8.)\n",
      " ( 58,  59, 12, -1.02929977e+00, 0.81127812,   4,   4.)\n",
      " ( -1,  -1, -2, -2.00000000e+00, 0.        ,   3,   3.)\n",
      " ( -1,  -1, -2, -2.00000000e+00, 0.        ,   1,   1.)\n",
      " ( -1,  -1, -2, -2.00000000e+00, 0.        ,   4,   4.)\n",
      " ( 62,  65,  5, -2.85889462e-01, 0.59167278,  14,  14.)\n",
      " ( 63,  64, 10,  2.08277717e-01, 0.91829583,   3,   3.)\n",
      " ( -1,  -1, -2, -2.00000000e+00, 0.        ,   2,   2.)\n",
      " ( -1,  -1, -2, -2.00000000e+00, 0.        ,   1,   1.)\n",
      " ( -1,  -1, -2, -2.00000000e+00, 0.        ,  11,  11.)\n",
      " ( 67,  68,  6, -7.39095081e-02, 0.76420451,  18,  18.)\n",
      " ( -1,  -1, -2, -2.00000000e+00, 0.        ,   3,   3.)\n",
      " ( 69,  70, 13, -2.96515383e-01, 0.35335934,  15,  15.)\n",
      " ( -1,  -1, -2, -2.00000000e+00, 0.        ,  14,  14.)\n",
      " ( -1,  -1, -2, -2.00000000e+00, 0.        ,   1,   1.)\n",
      " ( -1,  -1, -2, -2.00000000e+00, 0.        ,   9,   9.)\n",
      " ( 73,  74, 10,  5.36439508e-01, 0.33729007,  16,  16.)\n",
      " ( -1,  -1, -2, -2.00000000e+00, 0.        ,  14,  14.)\n",
      " ( 75,  76,  9,  1.41247803e+00, 1.        ,   2,   2.)\n",
      " ( -1,  -1, -2, -2.00000000e+00, 0.        ,   1,   1.)\n",
      " ( -1,  -1, -2, -2.00000000e+00, 0.        ,   1,   1.)\n",
      " ( 78,  79,  4, -4.15777102e-01, 0.83664074,  15,  15.)\n",
      " ( -1,  -1, -2, -2.00000000e+00, 0.        ,   7,   7.)\n",
      " ( 80,  83, 13, -3.78942445e-01, 1.        ,   8,   8.)\n",
      " ( 81,  82,  0,  1.00524080e+00, 0.91829583,   6,   6.)\n",
      " ( -1,  -1, -2, -2.00000000e+00, 0.        ,   4,   4.)\n",
      " ( -1,  -1, -2, -2.00000000e+00, 0.        ,   2,   2.)\n",
      " ( -1,  -1, -2, -2.00000000e+00, 0.        ,   2,   2.)\n",
      " ( 85,  88, 10,  2.25701779e-01, 0.92936363,  29,  29.)\n",
      " ( 86,  87,  9,  3.66894639e+00, 0.54356444,  16,  16.)\n",
      " ( -1,  -1, -2, -2.00000000e+00, 0.        ,  14,  14.)\n",
      " ( -1,  -1, -2, -2.00000000e+00, 0.        ,   2,   2.)\n",
      " ( 89,  90,  7, -5.26230134e-01, 0.9612366 ,  13,  13.)\n",
      " ( -1,  -1, -2, -2.00000000e+00, 0.        ,   5,   5.)\n",
      " ( -1,  -1, -2, -2.00000000e+00, 0.        ,   8,   8.)\n",
      " ( -1,  -1, -2, -2.00000000e+00, 0.        ,  11,  11.)\n",
      " ( 93, 104,  2, -1.93926793e+00, 0.55336838, 568, 568.)\n",
      " ( 94,  95,  4,  2.75355005e+00, 0.99613448,  41,  41.)\n",
      " ( -1,  -1, -2, -2.00000000e+00, 0.        ,  13,  13.)\n",
      " ( 96,  97,  2, -3.12038493e+00, 0.90592822,  28,  28.)\n",
      " ( -1,  -1, -2, -2.00000000e+00, 0.        ,   7,   7.)\n",
      " ( 98,  99,  6,  1.83405787e-01, 0.45371634,  21,  21.)\n",
      " ( -1,  -1, -2, -2.00000000e+00, 0.        ,  15,  15.)\n",
      " (100, 103,  2, -2.34022832e+00, 0.91829583,   6,   6.)\n",
      " (101, 102,  2, -2.57386398e+00, 0.91829583,   3,   3.)\n",
      " ( -1,  -1, -2, -2.00000000e+00, 0.        ,   1,   1.)\n",
      " ( -1,  -1, -2, -2.00000000e+00, 0.        ,   2,   2.)\n",
      " ( -1,  -1, -2, -2.00000000e+00, 0.        ,   3,   3.)\n",
      " (105, 174,  4,  7.04283193e-02, 0.45868582, 527, 527.)\n",
      " (106, 155,  0,  1.00893050e+00, 0.53017385, 424, 424.)\n",
      " (107, 134,  0, -6.17629558e-01, 0.45285171, 358, 358.)\n",
      " (108, 119,  0, -8.82137775e-01, 0.69812457, 138, 138.)\n",
      " (109, 118, 12,  4.33004141e-01, 0.39124356, 104, 104.)\n",
      " (110, 117,  3,  5.29412448e-01, 0.79904852,  33,  33.)\n",
      " (111, 116,  4, -5.46018600e-01, 0.57879462,  29,  29.)\n",
      " (112, 113,  5, -6.27856493e-01, 0.91829583,  12,  12.)\n",
      " ( -1,  -1, -2, -2.00000000e+00, 0.        ,   6,   6.)\n",
      " (114, 115,  7, -1.26835859e+00, 0.91829583,   6,   6.)\n",
      " ( -1,  -1, -2, -2.00000000e+00, 0.        ,   2,   2.)\n",
      " ( -1,  -1, -2, -2.00000000e+00, 0.        ,   4,   4.)\n",
      " ( -1,  -1, -2, -2.00000000e+00, 0.        ,  17,  17.)\n",
      " ( -1,  -1, -2, -2.00000000e+00, 0.        ,   4,   4.)\n",
      " ( -1,  -1, -2, -2.00000000e+00, 0.        ,  71,  71.)\n",
      " (120, 129,  0, -8.42549950e-01, 0.99750255,  34,  34.)\n",
      " (121, 128,  1, -3.08190107e-01, 0.93406806,  20,  20.)\n",
      " (122, 125,  3, -5.59709579e-01, 0.99572745,  13,  13.)\n",
      " (123, 124,  2,  9.23505485e-01, 0.65002242,   6,   6.)\n",
      " ( -1,  -1, -2, -2.00000000e+00, 0.        ,   5,   5.)\n",
      " ( -1,  -1, -2, -2.00000000e+00, 0.        ,   1,   1.)\n",
      " (126, 127,  6,  3.63770232e-01, 0.59167278,   7,   7.)\n",
      " ( -1,  -1, -2, -2.00000000e+00, 0.        ,   6,   6.)\n",
      " ( -1,  -1, -2, -2.00000000e+00, 0.        ,   1,   1.)\n",
      " ( -1,  -1, -2, -2.00000000e+00, 0.        ,   7,   7.)\n",
      " (130, 133,  4, -5.31227738e-01, 0.74959526,  14,  14.)\n",
      " (131, 132, 10, -1.65498811e+00, 0.81127812,   4,   4.)\n",
      " ( -1,  -1, -2, -2.00000000e+00, 0.        ,   1,   1.)\n",
      " ( -1,  -1, -2, -2.00000000e+00, 0.        ,   3,   3.)\n",
      " ( -1,  -1, -2, -2.00000000e+00, 0.        ,  10,  10.)\n",
      " (135, 154, 12,  6.15005136e-01, 0.22536364, 220, 220.)\n",
      " (136, 153,  7, -2.00958580e-01, 0.35125809, 121, 121.)\n",
      " (137, 138,  3, -5.49270213e-01, 0.50325833,  72,  72.)\n",
      " ( -1,  -1, -2, -2.00000000e+00, 0.        ,  30,  30.)\n",
      " (139, 146,  9,  1.02297995e-01, 0.70246655,  42,  42.)\n",
      " (140, 141,  9, -8.68884712e-01, 0.45868582,  31,  31.)\n",
      " ( -1,  -1, -2, -2.00000000e+00, 0.        ,   1,   1.)\n",
      " (142, 145,  2,  2.82610379e-01, 0.35335934,  30,  30.)\n",
      " (143, 144,  7, -5.97847968e-01, 0.91829583,   6,   6.)\n",
      " ( -1,  -1, -2, -2.00000000e+00, 0.        ,   4,   4.)\n",
      " ( -1,  -1, -2, -2.00000000e+00, 0.        ,   2,   2.)\n",
      " ( -1,  -1, -2, -2.00000000e+00, 0.        ,  24,  24.)\n",
      " (147, 152,  9,  6.62297726e-01, 0.99403021,  11,  11.)\n",
      " (148, 149,  4, -5.64541310e-01, 0.954434  ,   8,   8.)\n",
      " ( -1,  -1, -2, -2.00000000e+00, 0.        ,   2,   2.)\n",
      " (150, 151,  0, -3.47740501e-01, 0.65002242,   6,   6.)\n",
      " ( -1,  -1, -2, -2.00000000e+00, 0.        ,   1,   1.)\n",
      " ( -1,  -1, -2, -2.00000000e+00, 0.        ,   5,   5.)\n",
      " ( -1,  -1, -2, -2.00000000e+00, 0.        ,   3,   3.)\n",
      " ( -1,  -1, -2, -2.00000000e+00, 0.        ,  49,  49.)\n",
      " ( -1,  -1, -2, -2.00000000e+00, 0.        ,  99,  99.)\n",
      " (156, 173,  0,  1.30418652e+00, 0.82306608,  66,  66.)\n",
      " (157, 170, 13,  9.58282620e-01, 0.93130437,  49,  49.)\n",
      " (158, 165, 11,  4.34478477e-01, 1.        ,  32,  32.)\n",
      " (159, 160, 12,  1.31149948e-01, 0.85240518,  18,  18.)\n",
      " ( -1,  -1, -2, -2.00000000e+00, 0.        ,   3,   3.)\n",
      " (161, 164,  7, -6.19266540e-01, 0.56650951,  15,  15.)\n",
      " (162, 163,  9, -3.47750917e-01, 1.        ,   4,   4.)\n",
      " ( -1,  -1, -2, -2.00000000e+00, 0.        ,   2,   2.)\n",
      " ( -1,  -1, -2, -2.00000000e+00, 0.        ,   2,   2.)\n",
      " ( -1,  -1, -2, -2.00000000e+00, 0.        ,  11,  11.)\n",
      " (166, 169,  0,  1.22562581e+00, 0.74959526,  14,  14.)\n",
      " (167, 168,  3,  2.23435935e+00, 0.81127812,   4,   4.)\n",
      " ( -1,  -1, -2, -2.00000000e+00, 0.        ,   3,   3.)\n",
      " ( -1,  -1, -2, -2.00000000e+00, 0.        ,   1,   1.)\n",
      " ( -1,  -1, -2, -2.00000000e+00, 0.        ,  10,  10.)\n",
      " (171, 172,  2,  9.56800014e-01, 0.32275696,  17,  17.)\n",
      " ( -1,  -1, -2, -2.00000000e+00, 0.        ,  16,  16.)\n",
      " ( -1,  -1, -2, -2.00000000e+00, 0.        ,   1,   1.)\n",
      " ( -1,  -1, -2, -2.00000000e+00, 0.        ,  17,  17.)\n",
      " ( -1,  -1, -2, -2.00000000e+00, 0.        , 103, 103.)]\n"
     ]
    },
    {
     "data": {
      "text/plain": [
       "175"
      ]
     },
     "execution_count": 11,
     "metadata": {},
     "output_type": "execute_result"
    }
   ],
   "source": [
    "#using decision tree classfier\n",
    "classifier = DecisionTreeClassifier(criterion = \"entropy\", random_state = 0)\n",
    "classifier.fit(x_train_scaled, y_train['Party'])\n",
    "print(classifier.tree_.__getstate__()['nodes'])\n",
    "len(classifier.tree_.__getstate__()['nodes'])"
   ]
  },
  {
   "cell_type": "code",
   "execution_count": 12,
   "metadata": {},
   "outputs": [],
   "source": [
    "y_pred = classifier.predict(x_val_scaled)"
   ]
  },
  {
   "cell_type": "code",
   "execution_count": 13,
   "metadata": {},
   "outputs": [
    {
     "data": {
      "image/png": "[encoded data removed]",
      "text/plain": [
       "<Figure size 432x288 with 2 Axes>"
      ]
     },
     "metadata": {
      "needs_background": "light"
     },
     "output_type": "display_data"
    }
   ],
   "source": [
    "conf_matrix = metrics.confusion_matrix(y_val['Party'], y_pred)\n",
    "sns.heatmap(conf_matrix, annot = True, fmt = \".3f\", square = True, cmap = plt.cm.Blues)\n",
    "plt.ylabel('Actual')\n",
    "plt.xlabel('Predicted')\n",
    "plt.title('Confusion matrix')\n",
    "plt.tight_layout()"
   ]
  },
  {
   "cell_type": "code",
   "execution_count": 14,
   "metadata": {},
   "outputs": [
    {
     "name": "stdout",
     "output_type": "stream",
     "text": [
      "[0.802675585284281, 0.19732441471571904, array([0.88262911, 0.60465116]), array([0.84684685, 0.67532468]), array([0.86436782, 0.63803681])]\n"
     ]
    }
   ],
   "source": [
    "accuracy = metrics.accuracy_score(y_val['Party'], y_pred)\n",
    "error = 1 - accuracy\n",
    "precision = metrics.precision_score(y_val['Party'], y_pred, average = None)\n",
    "recall = metrics.recall_score(y_val['Party'], y_pred, average = None)\n",
    "F1_score = metrics.f1_score(y_val['Party'], y_pred, average = None)\n",
    "print([accuracy, error, precision, recall, F1_score])"
   ]
  },
  {
   "cell_type": "code",
   "execution_count": 15,
   "metadata": {},
   "outputs": [
    {
     "data": {
      "text/plain": [
       "KNeighborsClassifier(n_neighbors=3)"
      ]
     },
     "execution_count": 15,
     "metadata": {},
     "output_type": "execute_result"
    }
   ],
   "source": [
    "#K-nearest neighbors with 3 \n",
    "classifier = KNeighborsClassifier(n_neighbors = 3)  \n",
    "classifier.fit(x_train_scaled, y_train['Party'])"
   ]
  },
  {
   "cell_type": "code",
   "execution_count": 16,
   "metadata": {},
   "outputs": [],
   "source": [
    "y_pred = classifier.predict(x_val_scaled)"
   ]
  },
  {
   "cell_type": "code",
   "execution_count": 17,
   "metadata": {},
   "outputs": [
    {
     "data": {
      "image/png": "[encoded data removed]",
      "text/plain": [
       "<Figure size 432x288 with 2 Axes>"
      ]
     },
     "metadata": {
      "needs_background": "light"
     },
     "output_type": "display_data"
    }
   ],
   "source": [
    "conf_matrix = metrics.confusion_matrix(y_val['Party'], y_pred)\n",
    "sns.heatmap(conf_matrix, annot = True, fmt = \".3f\", square = True, cmap = plt.cm.Blues)\n",
    "plt.ylabel('Actual')\n",
    "plt.xlabel('Predicted')\n",
    "plt.title('Confusion matrix')\n",
    "plt.tight_layout()"
   ]
  },
  {
   "cell_type": "code",
   "execution_count": 18,
   "metadata": {},
   "outputs": [
    {
     "name": "stdout",
     "output_type": "stream",
     "text": [
      "[0.7959866220735786, 0.20401337792642138, array([0.82857143, 0.64814815]), array([0.91441441, 0.45454545]), array([0.86937901, 0.53435115])]\n"
     ]
    }
   ],
   "source": [
    "accuracy = metrics.accuracy_score(y_val['Party'], y_pred)\n",
    "error = 1 - accuracy\n",
    "precision = metrics.precision_score(y_val['Party'], y_pred, average = None)\n",
    "recall = metrics.recall_score(y_val['Party'], y_pred, average = None)\n",
    "F1_score = metrics.f1_score(y_val['Party'], y_pred, average = None)\n",
    "print([accuracy, error, precision, recall, F1_score])"
   ]
  },
  {
   "cell_type": "code",
   "execution_count": 19,
   "metadata": {},
   "outputs": [
    {
     "data": {
      "text/plain": [
       "KNeighborsClassifier(n_neighbors=4)"
      ]
     },
     "execution_count": 19,
     "metadata": {},
     "output_type": "execute_result"
    }
   ],
   "source": [
    "#K-nearest neighbors with 4\n",
    "classifier = KNeighborsClassifier(n_neighbors = 4)  \n",
    "classifier.fit(x_train_scaled, y_train['Party'])"
   ]
  },
  {
   "cell_type": "code",
   "execution_count": 20,
   "metadata": {},
   "outputs": [],
   "source": [
    "y_pred = classifier.predict(x_val_scaled)"
   ]
  },
  {
   "cell_type": "code",
   "execution_count": 21,
   "metadata": {},
   "outputs": [
    {
     "data": {
      "image/png": "[encoded data removed]",
      "text/plain": [
       "<Figure size 432x288 with 2 Axes>"
      ]
     },
     "metadata": {
      "needs_background": "light"
     },
     "output_type": "display_data"
    }
   ],
   "source": [
    "conf_matrix = metrics.confusion_matrix(y_val['Party'], y_pred)\n",
    "sns.heatmap(conf_matrix, annot = True, fmt = \".3f\", square = True, cmap = plt.cm.Blues)\n",
    "plt.ylabel('Actual')\n",
    "plt.xlabel('Predicted')\n",
    "plt.title('Confusion matrix')\n",
    "plt.tight_layout()"
   ]
  },
  {
   "cell_type": "code",
   "execution_count": 22,
   "metadata": {},
   "outputs": [
    {
     "name": "stdout",
     "output_type": "stream",
     "text": [
      "[0.7959866220735786, 0.20401337792642138, array([0.80608365, 0.72222222]), array([0.95495495, 0.33766234]), array([0.8742268 , 0.46017699])]\n"
     ]
    }
   ],
   "source": [
    "accuracy = metrics.accuracy_score(y_val['Party'], y_pred)\n",
    "error = 1 - accuracy\n",
    "precision = metrics.precision_score(y_val['Party'], y_pred, average = None)\n",
    "recall = metrics.recall_score(y_val['Party'], y_pred, average = None)\n",
    "F1_score = metrics.f1_score(y_val['Party'], y_pred, average = None)\n",
    "print([accuracy, error, precision, recall, F1_score])"
   ]
  },
  {
   "cell_type": "markdown",
   "metadata": {},
   "source": [
    "# Task 5"
   ]
  },
  {
   "cell_type": "code",
   "execution_count": 25,
   "metadata": {},
   "outputs": [],
   "source": [
    "clustering = linkage(x_val_scaled, method = \"single\", metric = \"euclidean\")\n",
    "clusters = fcluster(clustering, 2, criterion = 'maxclust')"
   ]
  },
  {
   "cell_type": "code",
   "execution_count": 26,
   "metadata": {},
   "outputs": [
    {
     "data": {
      "image/png": "[encoded data removed]",
      "text/plain": [
       "<Figure size 432x288 with 2 Axes>"
      ]
     },
     "metadata": {
      "needs_background": "light"
     },
     "output_type": "display_data"
    }
   ],
   "source": [
    "cont_matrix = metrics.cluster.contingency_matrix(y_val['Party'], clusters)\n",
    "sns.heatmap(cont_matrix, annot = True, fmt = \".3f\", square = True, cmap = plt.cm.Blues)\n",
    "plt.ylabel('Actual')\n",
    "plt.xlabel('Predicted')\n",
    "plt.title('Contingency matrix')\n",
    "plt.tight_layout()"
   ]
  },
  {
   "cell_type": "code",
   "execution_count": 27,
   "metadata": {},
   "outputs": [
    {
     "name": "stdout",
     "output_type": "stream",
     "text": [
      "[0.01254522751329356, 0.5568836666121089]\n"
     ]
    }
   ],
   "source": [
    "adjusted_rand_index = metrics.adjusted_rand_score(y_val['Party'], clusters)\n",
    "silhouette_coefficient = metrics.silhouette_score(x_val_scaled, clusters, metric = \"euclidean\")\n",
    "print([adjusted_rand_index, silhouette_coefficient])"
   ]
  },
  {
   "cell_type": "code",
   "execution_count": 28,
   "metadata": {},
   "outputs": [
    {
     "ename": "ValueError",
     "evalue": "Length of values (299) does not match length of index (1195)",
     "output_type": "error",
     "traceback": [
      "\u001b[0;31m---------------------------------------------------------------------------\u001b[0m",
      "\u001b[0;31mValueError\u001b[0m                                Traceback (most recent call last)",
      "\u001b[0;32m<ipython-input-28-508b5a948f33>\u001b[0m in \u001b[0;36m<module>\u001b[0;34m\u001b[0m\n\u001b[0;32m----> 1\u001b[0;31m \u001b[0mmerged_data\u001b[0m\u001b[0;34m[\u001b[0m\u001b[0;34m'clusters'\u001b[0m\u001b[0;34m]\u001b[0m \u001b[0;34m=\u001b[0m \u001b[0mclusters\u001b[0m\u001b[0;34m\u001b[0m\u001b[0;34m\u001b[0m\u001b[0m\n\u001b[0m\u001b[1;32m      2\u001b[0m \u001b[0;31m# ax = merged_data.plot(kind = 'scatter', x = 'Party', y = 'Democratic', c = 'clusters', colormap = plt.cm.brg)\u001b[0m\u001b[0;34m\u001b[0m\u001b[0;34m\u001b[0m\u001b[0;34m\u001b[0m\u001b[0m\n\u001b[1;32m      3\u001b[0m \u001b[0;31m# ax = merged_data.plot(kind = 'scatter', x = 'Party', y = 'Republican', c = 'clusters', colormap = plt.cm.brg)\u001b[0m\u001b[0;34m\u001b[0m\u001b[0;34m\u001b[0m\u001b[0;34m\u001b[0m\u001b[0m\n",
      "\u001b[0;32m~/opt/anaconda3/lib/python3.8/site-packages/pandas/core/frame.py\u001b[0m in \u001b[0;36m__setitem__\u001b[0;34m(self, key, value)\u001b[0m\n\u001b[1;32m   3038\u001b[0m         \u001b[0;32melse\u001b[0m\u001b[0;34m:\u001b[0m\u001b[0;34m\u001b[0m\u001b[0;34m\u001b[0m\u001b[0m\n\u001b[1;32m   3039\u001b[0m             \u001b[0;31m# set column\u001b[0m\u001b[0;34m\u001b[0m\u001b[0;34m\u001b[0m\u001b[0;34m\u001b[0m\u001b[0m\n\u001b[0;32m-> 3040\u001b[0;31m             \u001b[0mself\u001b[0m\u001b[0;34m.\u001b[0m\u001b[0m_set_item\u001b[0m\u001b[0;34m(\u001b[0m\u001b[0mkey\u001b[0m\u001b[0;34m,\u001b[0m \u001b[0mvalue\u001b[0m\u001b[0;34m)\u001b[0m\u001b[0;34m\u001b[0m\u001b[0;34m\u001b[0m\u001b[0m\n\u001b[0m\u001b[1;32m   3041\u001b[0m \u001b[0;34m\u001b[0m\u001b[0m\n\u001b[1;32m   3042\u001b[0m     \u001b[0;32mdef\u001b[0m \u001b[0m_setitem_slice\u001b[0m\u001b[0;34m(\u001b[0m\u001b[0mself\u001b[0m\u001b[0;34m,\u001b[0m \u001b[0mkey\u001b[0m\u001b[0;34m:\u001b[0m \u001b[0mslice\u001b[0m\u001b[0;34m,\u001b[0m \u001b[0mvalue\u001b[0m\u001b[0;34m)\u001b[0m\u001b[0;34m:\u001b[0m\u001b[0;34m\u001b[0m\u001b[0;34m\u001b[0m\u001b[0m\n",
      "\u001b[0;32m~/opt/anaconda3/lib/python3.8/site-packages/pandas/core/frame.py\u001b[0m in \u001b[0;36m_set_item\u001b[0;34m(self, key, value)\u001b[0m\n\u001b[1;32m   3114\u001b[0m         \"\"\"\n\u001b[1;32m   3115\u001b[0m         \u001b[0mself\u001b[0m\u001b[0;34m.\u001b[0m\u001b[0m_ensure_valid_index\u001b[0m\u001b[0;34m(\u001b[0m\u001b[0mvalue\u001b[0m\u001b[0;34m)\u001b[0m\u001b[0;34m\u001b[0m\u001b[0;34m\u001b[0m\u001b[0m\n\u001b[0;32m-> 3116\u001b[0;31m         \u001b[0mvalue\u001b[0m \u001b[0;34m=\u001b[0m \u001b[0mself\u001b[0m\u001b[0;34m.\u001b[0m\u001b[0m_sanitize_column\u001b[0m\u001b[0;34m(\u001b[0m\u001b[0mkey\u001b[0m\u001b[0;34m,\u001b[0m \u001b[0mvalue\u001b[0m\u001b[0;34m)\u001b[0m\u001b[0;34m\u001b[0m\u001b[0;34m\u001b[0m\u001b[0m\n\u001b[0m\u001b[1;32m   3117\u001b[0m         \u001b[0mNDFrame\u001b[0m\u001b[0;34m.\u001b[0m\u001b[0m_set_item\u001b[0m\u001b[0;34m(\u001b[0m\u001b[0mself\u001b[0m\u001b[0;34m,\u001b[0m \u001b[0mkey\u001b[0m\u001b[0;34m,\u001b[0m \u001b[0mvalue\u001b[0m\u001b[0;34m)\u001b[0m\u001b[0;34m\u001b[0m\u001b[0;34m\u001b[0m\u001b[0m\n\u001b[1;32m   3118\u001b[0m \u001b[0;34m\u001b[0m\u001b[0m\n",
      "\u001b[0;32m~/opt/anaconda3/lib/python3.8/site-packages/pandas/core/frame.py\u001b[0m in \u001b[0;36m_sanitize_column\u001b[0;34m(self, key, value, broadcast)\u001b[0m\n\u001b[1;32m   3762\u001b[0m \u001b[0;34m\u001b[0m\u001b[0m\n\u001b[1;32m   3763\u001b[0m             \u001b[0;31m# turn me into an ndarray\u001b[0m\u001b[0;34m\u001b[0m\u001b[0;34m\u001b[0m\u001b[0;34m\u001b[0m\u001b[0m\n\u001b[0;32m-> 3764\u001b[0;31m             \u001b[0mvalue\u001b[0m \u001b[0;34m=\u001b[0m \u001b[0msanitize_index\u001b[0m\u001b[0;34m(\u001b[0m\u001b[0mvalue\u001b[0m\u001b[0;34m,\u001b[0m \u001b[0mself\u001b[0m\u001b[0;34m.\u001b[0m\u001b[0mindex\u001b[0m\u001b[0;34m)\u001b[0m\u001b[0;34m\u001b[0m\u001b[0;34m\u001b[0m\u001b[0m\n\u001b[0m\u001b[1;32m   3765\u001b[0m             \u001b[0;32mif\u001b[0m \u001b[0;32mnot\u001b[0m \u001b[0misinstance\u001b[0m\u001b[0;34m(\u001b[0m\u001b[0mvalue\u001b[0m\u001b[0;34m,\u001b[0m \u001b[0;34m(\u001b[0m\u001b[0mnp\u001b[0m\u001b[0;34m.\u001b[0m\u001b[0mndarray\u001b[0m\u001b[0;34m,\u001b[0m \u001b[0mIndex\u001b[0m\u001b[0;34m)\u001b[0m\u001b[0;34m)\u001b[0m\u001b[0;34m:\u001b[0m\u001b[0;34m\u001b[0m\u001b[0;34m\u001b[0m\u001b[0m\n\u001b[1;32m   3766\u001b[0m                 \u001b[0;32mif\u001b[0m \u001b[0misinstance\u001b[0m\u001b[0;34m(\u001b[0m\u001b[0mvalue\u001b[0m\u001b[0;34m,\u001b[0m \u001b[0mlist\u001b[0m\u001b[0;34m)\u001b[0m \u001b[0;32mand\u001b[0m \u001b[0mlen\u001b[0m\u001b[0;34m(\u001b[0m\u001b[0mvalue\u001b[0m\u001b[0;34m)\u001b[0m \u001b[0;34m>\u001b[0m \u001b[0;36m0\u001b[0m\u001b[0;34m:\u001b[0m\u001b[0;34m\u001b[0m\u001b[0;34m\u001b[0m\u001b[0m\n",
      "\u001b[0;32m~/opt/anaconda3/lib/python3.8/site-packages/pandas/core/internals/construction.py\u001b[0m in \u001b[0;36msanitize_index\u001b[0;34m(data, index)\u001b[0m\n\u001b[1;32m    745\u001b[0m     \"\"\"\n\u001b[1;32m    746\u001b[0m     \u001b[0;32mif\u001b[0m \u001b[0mlen\u001b[0m\u001b[0;34m(\u001b[0m\u001b[0mdata\u001b[0m\u001b[0;34m)\u001b[0m \u001b[0;34m!=\u001b[0m \u001b[0mlen\u001b[0m\u001b[0;34m(\u001b[0m\u001b[0mindex\u001b[0m\u001b[0;34m)\u001b[0m\u001b[0;34m:\u001b[0m\u001b[0;34m\u001b[0m\u001b[0;34m\u001b[0m\u001b[0m\n\u001b[0;32m--> 747\u001b[0;31m         raise ValueError(\n\u001b[0m\u001b[1;32m    748\u001b[0m             \u001b[0;34m\"Length of values \"\u001b[0m\u001b[0;34m\u001b[0m\u001b[0;34m\u001b[0m\u001b[0m\n\u001b[1;32m    749\u001b[0m             \u001b[0;34mf\"({len(data)}) \"\u001b[0m\u001b[0;34m\u001b[0m\u001b[0;34m\u001b[0m\u001b[0m\n",
      "\u001b[0;31mValueError\u001b[0m: Length of values (299) does not match length of index (1195)"
     ]
    }
   ],
   "source": [
    "merged_data['clusters'] = clusters\n",
    "# ax = merged_data.plot(kind = 'scatter', x = 'Party', y = 'Democratic', c = 'clusters', colormap = plt.cm.brg)\n",
    "# ax = merged_data.plot(kind = 'scatter', x = 'Party', y = 'Republican', c = 'clusters', colormap = plt.cm.brg)"
   ]
  },
  {
   "cell_type": "markdown",
   "metadata": {},
   "source": [
    "## Task 6"
   ]
  },
  {
   "cell_type": "code",
   "execution_count": null,
   "metadata": {},
   "outputs": [],
   "source": [
    "# Get GeoJSON for US Counties\n",
    "# Code snippet taken from Choropleth Plotly Express Documentation (https://plotly.com/python/choropleth-maps/)\n",
    "from urllib.request import urlopen\n",
    "import json\n",
    "with urlopen('https://raw.githubusercontent.com/plotly/datasets/master/geojson-counties-fips.json') as response:\n",
    "    counties = json.load(response)"
   ]
  },
  {
   "cell_type": "code",
   "execution_count": null,
   "metadata": {},
   "outputs": [],
   "source": [
    "# Get FIPS to Party mapping\n",
    "county_party = merged_data.loc[:, ['FIPS', 'Party']]\n",
    "\n",
    "# Map Party columns as such : {0: 'Republican', 1: 'Democrat'}\n",
    "county_party['Party'] = county_party['Party'].apply(lambda x: 'Democrat' if x == 1 else 'Republican' if x == 0 else x)\n",
    "\n",
    "import plotly.express as px\n",
    "\n",
    "fig = px.choropleth(county_party, geojson=counties, locations='FIPS', color='Party',\n",
    "                        scope='usa', hover_data=['Party'], \n",
    "                        color_discrete_map={\n",
    "                            'Democrat': 'blue',\n",
    "                            'Republican': 'red'\n",
    "                        }\n",
    "                    )\n",
    "fig.update_layout(margin={\"r\":0,\"t\":0,\"l\":0,\"b\":0})\n",
    "fig.show()"
   ]
  },
  {
   "cell_type": "code",
   "execution_count": null,
   "metadata": {},
   "outputs": [],
   "source": []
  }
 ],
 "metadata": {
  "kernelspec": {
   "display_name": "Python 3",
   "language": "python",
   "name": "python3"
  },
  "language_info": {
   "codemirror_mode": {
    "name": "ipython",
    "version": 3
   },
   "file_extension": ".py",
   "mimetype": "text/x-python",
   "name": "python",
   "nbconvert_exporter": "python",
   "pygments_lexer": "ipython3",
   "version": "3.8.5"
  }
 },
 "nbformat": 4,
 "nbformat_minor": 4
}
