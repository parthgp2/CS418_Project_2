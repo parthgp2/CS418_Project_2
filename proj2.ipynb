{
 "cells": [
  {
   "cell_type": "code",
   "execution_count": 47,
   "metadata": {},
   "outputs": [],
   "source": [
    "# Load libraries\n",
    "import pandas as pd\n",
    "import matplotlib.pyplot as plt\n",
    "import seaborn as sns\n",
    "from sklearn.model_selection import train_test_split\n",
    "from sklearn.preprocessing import StandardScaler  \n",
    "from sklearn.tree import DecisionTreeClassifier\n",
    "from sklearn.neighbors import KNeighborsClassifier \n",
    "from sklearn.naive_bayes import GaussianNB\n",
    "from sklearn.svm import SVC\n",
    "from sklearn import metrics\n",
    "from sklearn.metrics import confusion_matrix\n",
    "from sklearn import linear_model"
   ]
  },
  {
   "cell_type": "code",
   "execution_count": 94,
   "metadata": {},
   "outputs": [
    {
     "data": {
      "text/html": [
       "<div>\n",
       "<style scoped>\n",
       "    .dataframe tbody tr th:only-of-type {\n",
       "        vertical-align: middle;\n",
       "    }\n",
       "\n",
       "    .dataframe tbody tr th {\n",
       "        vertical-align: top;\n",
       "    }\n",
       "\n",
       "    .dataframe thead th {\n",
       "        text-align: right;\n",
       "    }\n",
       "</style>\n",
       "<table border=\"1\" class=\"dataframe\">\n",
       "  <thead>\n",
       "    <tr style=\"text-align: right;\">\n",
       "      <th></th>\n",
       "      <th>State</th>\n",
       "      <th>County</th>\n",
       "      <th>FIPS</th>\n",
       "      <th>Total Population</th>\n",
       "      <th>Percent White, not Hispanic or Latino</th>\n",
       "      <th>Percent Black, not Hispanic or Latino</th>\n",
       "      <th>Percent Hispanic or Latino</th>\n",
       "      <th>Percent Foreign Born</th>\n",
       "      <th>Percent Female</th>\n",
       "      <th>Percent Age 29 and Under</th>\n",
       "      <th>Percent Age 65 and Older</th>\n",
       "      <th>Median Household Income</th>\n",
       "      <th>Percent Unemployed</th>\n",
       "      <th>Percent Less than High School Degree</th>\n",
       "      <th>Percent Less than Bachelor's Degree</th>\n",
       "      <th>Percent Rural</th>\n",
       "      <th>Democratic</th>\n",
       "      <th>Republican</th>\n",
       "      <th>Party</th>\n",
       "    </tr>\n",
       "  </thead>\n",
       "  <tbody>\n",
       "    <tr>\n",
       "      <th>0</th>\n",
       "      <td>AZ</td>\n",
       "      <td>apache</td>\n",
       "      <td>4001</td>\n",
       "      <td>72346</td>\n",
       "      <td>18.571863</td>\n",
       "      <td>0.486551</td>\n",
       "      <td>5.947806</td>\n",
       "      <td>1.719515</td>\n",
       "      <td>50.598513</td>\n",
       "      <td>45.854643</td>\n",
       "      <td>13.322091</td>\n",
       "      <td>32460</td>\n",
       "      <td>15.807433</td>\n",
       "      <td>21.758252</td>\n",
       "      <td>88.941063</td>\n",
       "      <td>74.061076</td>\n",
       "      <td>16298</td>\n",
       "      <td>7810</td>\n",
       "      <td>1</td>\n",
       "    </tr>\n",
       "    <tr>\n",
       "      <th>1</th>\n",
       "      <td>AZ</td>\n",
       "      <td>cochise</td>\n",
       "      <td>4003</td>\n",
       "      <td>128177</td>\n",
       "      <td>56.299492</td>\n",
       "      <td>3.714395</td>\n",
       "      <td>34.403208</td>\n",
       "      <td>11.458374</td>\n",
       "      <td>49.069646</td>\n",
       "      <td>37.902276</td>\n",
       "      <td>19.756275</td>\n",
       "      <td>45383</td>\n",
       "      <td>8.567108</td>\n",
       "      <td>13.409171</td>\n",
       "      <td>76.837055</td>\n",
       "      <td>36.301067</td>\n",
       "      <td>17383</td>\n",
       "      <td>26929</td>\n",
       "      <td>0</td>\n",
       "    </tr>\n",
       "    <tr>\n",
       "      <th>2</th>\n",
       "      <td>AZ</td>\n",
       "      <td>coconino</td>\n",
       "      <td>4005</td>\n",
       "      <td>138064</td>\n",
       "      <td>54.619597</td>\n",
       "      <td>1.342855</td>\n",
       "      <td>13.711033</td>\n",
       "      <td>4.825298</td>\n",
       "      <td>50.581614</td>\n",
       "      <td>48.946141</td>\n",
       "      <td>10.873943</td>\n",
       "      <td>51106</td>\n",
       "      <td>8.238305</td>\n",
       "      <td>11.085381</td>\n",
       "      <td>65.791439</td>\n",
       "      <td>31.466066</td>\n",
       "      <td>34240</td>\n",
       "      <td>19249</td>\n",
       "      <td>1</td>\n",
       "    </tr>\n",
       "    <tr>\n",
       "      <th>3</th>\n",
       "      <td>AZ</td>\n",
       "      <td>gila</td>\n",
       "      <td>4007</td>\n",
       "      <td>53179</td>\n",
       "      <td>63.222325</td>\n",
       "      <td>0.552850</td>\n",
       "      <td>18.548675</td>\n",
       "      <td>4.249798</td>\n",
       "      <td>50.296170</td>\n",
       "      <td>32.238290</td>\n",
       "      <td>26.397638</td>\n",
       "      <td>40593</td>\n",
       "      <td>12.129932</td>\n",
       "      <td>15.729958</td>\n",
       "      <td>82.262624</td>\n",
       "      <td>41.062000</td>\n",
       "      <td>7643</td>\n",
       "      <td>12180</td>\n",
       "      <td>0</td>\n",
       "    </tr>\n",
       "    <tr>\n",
       "      <th>4</th>\n",
       "      <td>AZ</td>\n",
       "      <td>graham</td>\n",
       "      <td>4009</td>\n",
       "      <td>37529</td>\n",
       "      <td>51.461536</td>\n",
       "      <td>1.811932</td>\n",
       "      <td>32.097844</td>\n",
       "      <td>4.385942</td>\n",
       "      <td>46.313518</td>\n",
       "      <td>46.393456</td>\n",
       "      <td>12.315809</td>\n",
       "      <td>47422</td>\n",
       "      <td>14.424104</td>\n",
       "      <td>14.580797</td>\n",
       "      <td>86.675944</td>\n",
       "      <td>46.437399</td>\n",
       "      <td>3368</td>\n",
       "      <td>6870</td>\n",
       "      <td>0</td>\n",
       "    </tr>\n",
       "  </tbody>\n",
       "</table>\n",
       "</div>"
      ],
      "text/plain": [
       "  State    County  FIPS  Total Population  \\\n",
       "0    AZ    apache  4001             72346   \n",
       "1    AZ   cochise  4003            128177   \n",
       "2    AZ  coconino  4005            138064   \n",
       "3    AZ      gila  4007             53179   \n",
       "4    AZ    graham  4009             37529   \n",
       "\n",
       "   Percent White, not Hispanic or Latino  \\\n",
       "0                              18.571863   \n",
       "1                              56.299492   \n",
       "2                              54.619597   \n",
       "3                              63.222325   \n",
       "4                              51.461536   \n",
       "\n",
       "   Percent Black, not Hispanic or Latino  Percent Hispanic or Latino  \\\n",
       "0                               0.486551                    5.947806   \n",
       "1                               3.714395                   34.403208   \n",
       "2                               1.342855                   13.711033   \n",
       "3                               0.552850                   18.548675   \n",
       "4                               1.811932                   32.097844   \n",
       "\n",
       "   Percent Foreign Born  Percent Female  Percent Age 29 and Under  \\\n",
       "0              1.719515       50.598513                 45.854643   \n",
       "1             11.458374       49.069646                 37.902276   \n",
       "2              4.825298       50.581614                 48.946141   \n",
       "3              4.249798       50.296170                 32.238290   \n",
       "4              4.385942       46.313518                 46.393456   \n",
       "\n",
       "   Percent Age 65 and Older  Median Household Income  Percent Unemployed  \\\n",
       "0                 13.322091                    32460           15.807433   \n",
       "1                 19.756275                    45383            8.567108   \n",
       "2                 10.873943                    51106            8.238305   \n",
       "3                 26.397638                    40593           12.129932   \n",
       "4                 12.315809                    47422           14.424104   \n",
       "\n",
       "   Percent Less than High School Degree  Percent Less than Bachelor's Degree  \\\n",
       "0                             21.758252                            88.941063   \n",
       "1                             13.409171                            76.837055   \n",
       "2                             11.085381                            65.791439   \n",
       "3                             15.729958                            82.262624   \n",
       "4                             14.580797                            86.675944   \n",
       "\n",
       "   Percent Rural  Democratic  Republican  Party  \n",
       "0      74.061076       16298        7810      1  \n",
       "1      36.301067       17383       26929      0  \n",
       "2      31.466066       34240       19249      1  \n",
       "3      41.062000        7643       12180      0  \n",
       "4      46.437399        3368        6870      0  "
      ]
     },
     "execution_count": 94,
     "metadata": {},
     "output_type": "execute_result"
    }
   ],
   "source": [
    "# Load dataset\n",
    "merged_data = pd.read_csv('merged_train.csv')\n",
    "merged_data.head()"
   ]
  },
  {
   "cell_type": "code",
   "execution_count": 95,
   "metadata": {},
   "outputs": [],
   "source": [
    "#Task 1\n",
    "x_train, x_test, y_train, y_test = train_test_split(merged_data[[\n",
    "                                                                 'FIPS', \n",
    "                                                                 'Total Population', \n",
    "                                                                 'Percent White, not Hispanic or Latino', \n",
    "                                                                 'Percent Black, not Hispanic or Latino', \n",
    "                                                                 'Percent Hispanic or Latino', \n",
    "                                                                 'Percent Foreign Born', \n",
    "                                                                 'Percent Female', \n",
    "                                                                 'Percent Age 29 and Under', \n",
    "                                                                 'Percent Age 65 and Older', \n",
    "                                                                 'Median Household Income', \n",
    "                                                                 'Percent Unemployed', \n",
    "                                                                 'Percent Less than High School Degree',\n",
    "                                                                 \"Percent Less than Bachelor's Degree\",\n",
    "                                                                 'Percent Rural', 'Democratic', 'Republican']], \n",
    "                                                                  merged_data['Party'],\n",
    "                                                                  train_size = .75, \n",
    "                                                                  test_size = .25, \n",
    "                                                                  random_state = 0)\n",
    "\n",
    "x_train, x_val, y_train, y_val = train_test_split(x_train, y_train, train_size = .75, test_size = .25,random_state = 0)\n",
    "\n",
    "                                                                \n",
    "                                                                \n",
    "                                                                \n",
    "                                                                \n",
    "                                                                \n",
    "                                                                "
   ]
  },
  {
   "cell_type": "code",
   "execution_count": 96,
   "metadata": {},
   "outputs": [],
   "source": [
    "#Task 2\n",
    "scaler = StandardScaler()\n",
    "scaler.fit(x_train)\n",
    "x_train_scaled = scaler.transform(x_train)\n",
    "x_val_scaled = scaler.transform(x_val)"
   ]
  },
  {
   "cell_type": "code",
   "execution_count": 97,
   "metadata": {},
   "outputs": [
    {
     "name": "stdout",
     "output_type": "stream",
     "text": [
      "[0.02641506]\n",
      "-1.0444571976321435\n"
     ]
    },
    {
     "data": {
      "text/plain": [
       "0.019931106189492453"
      ]
     },
     "execution_count": 97,
     "metadata": {},
     "output_type": "execute_result"
    }
   ],
   "source": [
    "#Task 3\n",
    "# Build model with one predictor \n",
    "model = linear_model.LinearRegression()\n",
    "predicted = model.fit(X = merged_data['Percent Female'].values.reshape(-1, 1), y = merged_data['Party'])\n",
    "print(predicted.coef_)\n",
    "print(predicted.intercept_)\n",
    "model.score(X = merged_data['Percent Female'].values.reshape(-1, 1), y = merged_data['Party']) # print R squared"
   ]
  },
  {
   "cell_type": "code",
   "execution_count": 98,
   "metadata": {},
   "outputs": [
    {
     "name": "stdout",
     "output_type": "stream",
     "text": [
      "[0.02499718 0.01667543]\n",
      "-1.5865475306460974\n"
     ]
    },
    {
     "data": {
      "text/plain": [
       "0.064239117982266"
      ]
     },
     "execution_count": 98,
     "metadata": {},
     "output_type": "execute_result"
    }
   ],
   "source": [
    "# Build model with two predictors \n",
    "model = linear_model.LinearRegression()\n",
    "predicted = model.fit(X = merged_data[['Percent Female', 'Percent Age 29 and Under']], y = merged_data['Party'])\n",
    "print(predicted.coef_)\n",
    "print(predicted.intercept_)\n",
    "model.score(X = merged_data[['Percent Female', 'Percent Age 29 and Under']], y = merged_data['Party']) # print R squared"
   ]
  },
  {
   "cell_type": "code",
   "execution_count": 99,
   "metadata": {},
   "outputs": [],
   "source": [
    "data_dummy = pd.get_dummies(merged_data[['FIPS',  \n",
    "                                  'Total Population', \n",
    "                                'Percent White, not Hispanic or Latino', \n",
    "                                'Percent Black, not Hispanic or Latino', \n",
    "                                    'Percent Hispanic or Latino', \n",
    "                                'Percent Foreign Born', \n",
    "                                'Percent Female', \n",
    "                                'Percent Age 29 and Under', \n",
    "                                'Percent Age 65 and Older', \n",
    "                                'Median Household Income', \n",
    "                                'Percent Unemployed', \n",
    "                                'Percent Less than High School Degree',\n",
    "                                \"Percent Less than Bachelor's Degree\",\n",
    "                                'Percent Rural', 'Democratic', 'Republican']], drop_first = True)\n",
    "#print(data_dummy.head())"
   ]
  },
  {
   "cell_type": "code",
   "execution_count": 100,
   "metadata": {},
   "outputs": [
    {
     "name": "stdout",
     "output_type": "stream",
     "text": [
      "[-6.96122898e-07  1.27683189e-07 -1.01032041e-02 -3.84606013e-03\n",
      " -5.49400216e-03 -3.78061834e-03  5.67920949e-03 -1.28558275e-02\n",
      " -1.84561073e-02 -8.33615237e-06  5.33309987e-03 -5.49167565e-03\n",
      " -2.13138232e-02 -1.28896718e-03  2.11112995e-06 -3.37884959e-06]\n",
      "3.9248873736284597\n"
     ]
    },
    {
     "data": {
      "text/plain": [
       "0.36986029093584083"
      ]
     },
     "execution_count": 100,
     "metadata": {},
     "output_type": "execute_result"
    }
   ],
   "source": [
    "# Build model with all predictors (using sklearn)\n",
    "model = linear_model.LinearRegression()\n",
    "predicted = model.fit(X = data_dummy, y = merged_data['Party'])\n",
    "print(predicted.coef_)\n",
    "print(predicted.intercept_)\n",
    "model.score(X = data_dummy, y = merged_data['Party']) # print R squared"
   ]
  },
  {
   "cell_type": "code",
   "execution_count": null,
   "metadata": {},
   "outputs": [],
   "source": []
  }
 ],
 "metadata": {
  "kernelspec": {
   "display_name": "Python 3",
   "language": "python",
   "name": "python3"
  },
  "language_info": {
   "codemirror_mode": {
    "name": "ipython",
    "version": 3
   },
   "file_extension": ".py",
   "mimetype": "text/x-python",
   "name": "python",
   "nbconvert_exporter": "python",
   "pygments_lexer": "ipython3",
   "version": "3.8.5"
  }
 },
 "nbformat": 4,
 "nbformat_minor": 4
}
